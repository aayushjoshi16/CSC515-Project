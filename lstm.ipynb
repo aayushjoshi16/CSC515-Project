{
 "cells": [
  {
   "cell_type": "code",
   "execution_count": 6,
   "id": "3bade637-1eb2-44c5-8360-0a9def7b3d38",
   "metadata": {},
   "outputs": [],
   "source": [
    "import torch\n",
    "import torch.nn as nn\n",
    "import numpy as np\n",
    "import matplotlib.pyplot as plt\n",
    "from torch.utils.data import DataLoader, TensorDataset\n",
    "from collections import defaultdict"
   ]
  },
  {
   "cell_type": "code",
   "execution_count": 23,
   "id": "567bf7a1-662a-4961-902f-fb771c068b3d",
   "metadata": {},
   "outputs": [],
   "source": [
    "with open(\"test1.out\") as f:\n",
    "    addrs = f.readlines()\n",
    "hits, addrs = zip(*(l.rstrip().split(' ') for l in addrs))\n",
    "hits = [int(hit) for hit in hits]\n",
    "addrs = [int(addr, 16) for addr in addrs]"
   ]
  },
  {
   "cell_type": "code",
   "execution_count": 24,
   "id": "8f3f80de-dd12-48f9-9289-d5ee26aefc36",
   "metadata": {
    "scrolled": true
   },
   "outputs": [
    {
     "data": {
      "text/plain": [
       "([0, 0, 0, 0, 3, 3, 0, 3, 0, 3],\n",
       " [536870744,\n",
       "  536870752,\n",
       "  805385384,\n",
       "  805385392,\n",
       "  805385376,\n",
       "  805385400,\n",
       "  536870728,\n",
       "  536870720,\n",
       "  536870712,\n",
       "  536870704])"
      ]
     },
     "execution_count": 24,
     "metadata": {},
     "output_type": "execute_result"
    }
   ],
   "source": [
    "hits[:10], addrs[:10]"
   ]
  },
  {
   "cell_type": "code",
   "execution_count": 112,
   "id": "d421f233-803e-4a40-be26-9983478561c5",
   "metadata": {},
   "outputs": [],
   "source": [
    "# y (target sequence) is binary hit\n",
    "y = np.asarray(hits)\n",
    "y = (y > 0).astype(np.int_)\n",
    "# standard normalization to put vectors in the same range\n",
    "#y = (y - y.mean()) / (y.std())\n",
    "# X (features) is address (minus the lowest seen)\n",
    "# TODO: ideally we'd want PCs or to separate address space\n",
    "X = np.asarray(addrs)\n",
    "# normalize X\n",
    "X = (X - X.mean()) / (X.std())"
   ]
  },
  {
   "cell_type": "code",
   "execution_count": 113,
   "id": "f7e0a182-079c-406a-bdc7-70fadf3ea5e1",
   "metadata": {},
   "outputs": [
    {
     "data": {
      "text/plain": [
       "array([-1.05364059, -1.05364053,  0.94539084,  0.9453909 ,  0.94539079,\n",
       "        0.94539096, -1.05364071, -1.05364077, -1.05364083, -1.05364089])"
      ]
     },
     "execution_count": 113,
     "metadata": {},
     "output_type": "execute_result"
    }
   ],
   "source": [
    "X[:10]"
   ]
  },
  {
   "cell_type": "code",
   "execution_count": 114,
   "id": "1272f911-3a35-4584-a456-3300764c08c8",
   "metadata": {},
   "outputs": [
    {
     "data": {
      "text/plain": [
       "array([0, 0, 0, 0, 1, 1, 0, 1, 0, 1])"
      ]
     },
     "execution_count": 114,
     "metadata": {},
     "output_type": "execute_result"
    }
   ],
   "source": [
    "y[:10]"
   ]
  },
  {
   "cell_type": "code",
   "execution_count": 115,
   "id": "4f4a5ac6-df8b-4558-9bc3-75d3aafd1ce4",
   "metadata": {},
   "outputs": [
    {
     "data": {
      "text/plain": [
       "np.int64(0)"
      ]
     },
     "execution_count": 115,
     "metadata": {},
     "output_type": "execute_result"
    }
   ],
   "source": [
    "y[16]"
   ]
  },
  {
   "cell_type": "code",
   "execution_count": 116,
   "id": "6ce41eb6-ef02-42b8-a79f-92a8e31620a4",
   "metadata": {},
   "outputs": [],
   "source": [
    "def build_seqs(X, y, n):\n",
    "    assert len(X) == len(y)\n",
    "    xs = []\n",
    "    ys = []\n",
    "    for i in range(len(X)-n):\n",
    "        x_sample = X[i:(i+n)]\n",
    "        y_sample = y[i+n]\n",
    "        xs.append(x_sample)\n",
    "        ys.append(y_sample)\n",
    "    return np.array(xs), np.array(ys)"
   ]
  },
  {
   "cell_type": "code",
   "execution_count": 117,
   "id": "55251ca1-610e-4983-a67a-63d1feea60f1",
   "metadata": {},
   "outputs": [],
   "source": [
    "Xs, ys = build_seqs(X, y, 15)"
   ]
  },
  {
   "cell_type": "code",
   "execution_count": 118,
   "id": "3ce015dc-cf50-47f9-b9cb-738614eb3aba",
   "metadata": {},
   "outputs": [
    {
     "data": {
      "text/plain": [
       "array([-1.05364059, -1.05364053,  0.94539084,  0.9453909 ,  0.94539079,\n",
       "        0.94539096, -1.05364071, -1.05364077, -1.05364083, -1.05364089,\n",
       "        0.9453859 , -1.05364089,  0.94514165,  0.94514207,  0.94514249])"
      ]
     },
     "execution_count": 118,
     "metadata": {},
     "output_type": "execute_result"
    }
   ],
   "source": [
    "Xs[0]"
   ]
  },
  {
   "cell_type": "code",
   "execution_count": 119,
   "id": "7e4c9b98-a1e8-4304-be66-83f51872aff6",
   "metadata": {},
   "outputs": [
    {
     "data": {
      "text/plain": [
       "np.int64(0)"
      ]
     },
     "execution_count": 119,
     "metadata": {},
     "output_type": "execute_result"
    }
   ],
   "source": [
    "ys[0]"
   ]
  },
  {
   "cell_type": "code",
   "execution_count": 120,
   "id": "44eefb4d-da8e-4aa4-a64f-a6c8397d16dd",
   "metadata": {},
   "outputs": [
    {
     "data": {
      "text/plain": [
       "device(type='cuda')"
      ]
     },
     "execution_count": 120,
     "metadata": {},
     "output_type": "execute_result"
    }
   ],
   "source": [
    "device = torch.device(\"cuda\" if torch.cuda.is_available() else \"cpu\")\n",
    "device"
   ]
  },
  {
   "cell_type": "code",
   "execution_count": 121,
   "id": "303ca5b1-5ae7-49a1-b459-51b0be10c578",
   "metadata": {},
   "outputs": [],
   "source": [
    "trainX = torch.tensor(Xs[:, :, None], dtype=torch.float32).to(device)\n",
    "trainY = torch.tensor(ys[:, None], dtype=torch.float32).to(device)"
   ]
  },
  {
   "cell_type": "code",
   "execution_count": 122,
   "id": "1b7469b3-ba66-49d4-969e-75012db4fe85",
   "metadata": {},
   "outputs": [
    {
     "data": {
      "text/plain": [
       "tensor([[[-1.0536],\n",
       "         [-1.0536],\n",
       "         [ 0.9454],\n",
       "         ...,\n",
       "         [ 0.9451],\n",
       "         [ 0.9451],\n",
       "         [ 0.9451]],\n",
       "\n",
       "        [[-1.0536],\n",
       "         [ 0.9454],\n",
       "         [ 0.9454],\n",
       "         ...,\n",
       "         [ 0.9451],\n",
       "         [ 0.9451],\n",
       "         [-1.0536]],\n",
       "\n",
       "        [[ 0.9454],\n",
       "         [ 0.9454],\n",
       "         [ 0.9454],\n",
       "         ...,\n",
       "         [ 0.9451],\n",
       "         [-1.0536],\n",
       "         [-1.0536]],\n",
       "\n",
       "        ...,\n",
       "\n",
       "        [[-1.0537],\n",
       "         [ 0.9454],\n",
       "         [-1.0537],\n",
       "         ...,\n",
       "         [-1.0537],\n",
       "         [-1.0537],\n",
       "         [-1.0537]],\n",
       "\n",
       "        [[ 0.9454],\n",
       "         [-1.0537],\n",
       "         [ 0.9450],\n",
       "         ...,\n",
       "         [-1.0537],\n",
       "         [-1.0537],\n",
       "         [-1.0537]],\n",
       "\n",
       "        [[-1.0537],\n",
       "         [ 0.9450],\n",
       "         [ 0.9450],\n",
       "         ...,\n",
       "         [-1.0537],\n",
       "         [-1.0537],\n",
       "         [ 0.9454]]], device='cuda:0')"
      ]
     },
     "execution_count": 122,
     "metadata": {},
     "output_type": "execute_result"
    }
   ],
   "source": [
    "trainX"
   ]
  },
  {
   "cell_type": "code",
   "execution_count": 123,
   "id": "9d9a8db0-28b9-436a-a4ab-9a0beea66c0b",
   "metadata": {},
   "outputs": [
    {
     "data": {
      "text/plain": [
       "tensor([[0.],\n",
       "        [0.],\n",
       "        [0.],\n",
       "        ...,\n",
       "        [1.],\n",
       "        [1.],\n",
       "        [1.]], device='cuda:0')"
      ]
     },
     "execution_count": 123,
     "metadata": {},
     "output_type": "execute_result"
    }
   ],
   "source": [
    "trainY"
   ]
  },
  {
   "cell_type": "code",
   "execution_count": 124,
   "id": "fb329f20-4bc4-4377-bcbb-f9a958c4fa77",
   "metadata": {},
   "outputs": [
    {
     "data": {
      "text/plain": [
       "torch.Size([4999985, 15, 1])"
      ]
     },
     "execution_count": 124,
     "metadata": {},
     "output_type": "execute_result"
    }
   ],
   "source": [
    "trainX.shape"
   ]
  },
  {
   "cell_type": "code",
   "execution_count": 125,
   "id": "6fab9eb9-fa9c-42a0-a7a8-227740e26758",
   "metadata": {},
   "outputs": [],
   "source": [
    "class LSTMModel(nn.Module):\n",
    "    def __init__(self, input_dim, hidden_dim, layer_dim, output_dim):\n",
    "        super(LSTMModel, self).__init__()\n",
    "        self.hidden_dim = hidden_dim\n",
    "        self.layer_dim = layer_dim\n",
    "        self.lstm = nn.LSTM(input_dim, hidden_dim, layer_dim, batch_first=True)\n",
    "        self.fc = nn.Linear(hidden_dim, output_dim)\n",
    "\n",
    "    def forward(self, x, h0=None, c0=None):\n",
    "        if h0 is None or c0 is None:\n",
    "            h0 = torch.zeros(self.layer_dim, x.size(0), self.hidden_dim).to(x.device)\n",
    "            c0 = torch.zeros(self.layer_dim, x.size(0), self.hidden_dim).to(x.device)\n",
    "        \n",
    "        out, (hn, cn) = self.lstm(x, (h0, c0))\n",
    "        out = self.fc(out[:, -1, :])\n",
    "        return out, hn, cn"
   ]
  },
  {
   "cell_type": "code",
   "execution_count": 126,
   "id": "e6d37d78-5233-4392-905d-74433c0b9a7b",
   "metadata": {},
   "outputs": [],
   "source": [
    "model = LSTMModel(input_dim=1, hidden_dim=100, layer_dim=1, output_dim=1).to(device)\n",
    "criterion = nn.MSELoss()\n",
    "optimizer = torch.optim.Adam(model.parameters(), lr=0.01)"
   ]
  },
  {
   "cell_type": "code",
   "execution_count": 127,
   "id": "5fb244df-c612-465c-a92e-f7bcadec0c0d",
   "metadata": {},
   "outputs": [],
   "source": [
    "batch_size = 16384\n",
    "dataset = TensorDataset(trainX, trainY)\n",
    "dataloader = DataLoader(dataset, batch_size=batch_size, shuffle=True, drop_last=True)"
   ]
  },
  {
   "cell_type": "code",
   "execution_count": null,
   "id": "4fc1d5c8-b56f-490c-9647-c32a0c1364aa",
   "metadata": {},
   "outputs": [
    {
     "name": "stdout",
     "output_type": "stream",
     "text": [
      "Epoch 0, Batch 0, Batch Loss: 2.1020, Batch Accuracy 0.95220947265625\n",
      "Epoch 0, Batch 10, Batch Loss: 1.6311, Batch Accuracy 0.9525146484375\n",
      "Epoch 0, Batch 20, Batch Loss: 0.9525, Batch Accuracy 0.952392578125\n",
      "Epoch 0, Batch 30, Batch Loss: 0.2766, Batch Accuracy 0.94952392578125\n",
      "Epoch 0, Batch 40, Batch Loss: 0.0541, Batch Accuracy 0.9522705078125\n",
      "Epoch 0, Batch 50, Batch Loss: 0.4869, Batch Accuracy 0.04791259765625\n",
      "Epoch 0, Batch 60, Batch Loss: 1.4118, Batch Accuracy 0.051025390625\n",
      "Epoch 0, Batch 70, Batch Loss: 2.4502, Batch Accuracy 0.0484619140625\n",
      "Epoch 0, Batch 80, Batch Loss: 3.0851, Batch Accuracy 0.04656982421875\n",
      "Epoch 0, Batch 90, Batch Loss: 2.9042, Batch Accuracy 0.04669189453125\n",
      "Epoch 0, Batch 100, Batch Loss: 1.9665, Batch Accuracy 0.04510498046875\n",
      "Epoch 0, Batch 110, Batch Loss: 0.8310, Batch Accuracy 0.04681396484375\n",
      "Epoch 0, Batch 120, Batch Loss: 0.1280, Batch Accuracy 0.95355224609375\n",
      "Epoch 0, Batch 130, Batch Loss: 0.1571, Batch Accuracy 0.95086669921875\n",
      "Epoch 0, Batch 140, Batch Loss: 0.8941, Batch Accuracy 0.94964599609375\n",
      "Epoch 0, Batch 150, Batch Loss: 2.0989, Batch Accuracy 0.95233154296875\n",
      "Epoch 0, Batch 160, Batch Loss: 3.4653, Batch Accuracy 0.94921875\n",
      "Epoch 0, Batch 170, Batch Loss: 4.5383, Batch Accuracy 0.95361328125\n",
      "Epoch 0, Batch 180, Batch Loss: 5.0140, Batch Accuracy 0.9503173828125\n",
      "Epoch 0, Batch 190, Batch Loss: 4.6232, Batch Accuracy 0.95001220703125\n",
      "Epoch 0, Batch 200, Batch Loss: 3.4634, Batch Accuracy 0.955322265625\n",
      "Epoch 0, Batch 210, Batch Loss: 2.0368, Batch Accuracy 0.950927734375\n",
      "Epoch 0, Batch 220, Batch Loss: 0.7947, Batch Accuracy 0.95147705078125\n",
      "Epoch 0, Batch 230, Batch Loss: 0.1161, Batch Accuracy 0.9552001953125\n",
      "Epoch 0, Batch 240, Batch Loss: 0.1473, Batch Accuracy 0.953125\n",
      "Epoch 0, Batch 250, Batch Loss: 0.8269, Batch Accuracy 0.0484619140625\n",
      "Epoch 0, Batch 260, Batch Loss: 2.0027, Batch Accuracy 0.04693603515625\n",
      "Epoch 0, Batch 270, Batch Loss: 3.4417, Batch Accuracy 0.04852294921875\n",
      "Epoch 0, Batch 280, Batch Loss: 4.8881, Batch Accuracy 0.049560546875\n",
      "Epoch 0, Batch 290, Batch Loss: 6.0909, Batch Accuracy 0.045166015625\n",
      "Epoch 0, Batch 300, Batch Loss: 6.7482, Batch Accuracy 0.04864501953125\n",
      "Epoch 1, Batch 0, Batch Loss: 6.8417, Batch Accuracy 0.04632568359375\n",
      "Epoch 1, Batch 10, Batch Loss: 6.7103, Batch Accuracy 0.0478515625\n",
      "Epoch 1, Batch 20, Batch Loss: 6.1004, Batch Accuracy 0.04547119140625\n",
      "Epoch 1, Batch 30, Batch Loss: 4.9433, Batch Accuracy 0.04547119140625\n",
      "Epoch 1, Batch 40, Batch Loss: 3.4572, Batch Accuracy 0.0469970703125\n",
      "Epoch 1, Batch 50, Batch Loss: 1.9718, Batch Accuracy 0.05126953125\n",
      "Epoch 1, Batch 60, Batch Loss: 0.8087, Batch Accuracy 0.05078125\n",
      "Epoch 1, Batch 70, Batch Loss: 0.1552, Batch Accuracy 0.95428466796875\n",
      "Epoch 1, Batch 80, Batch Loss: 0.0889, Batch Accuracy 0.95391845703125\n",
      "Epoch 1, Batch 90, Batch Loss: 0.5919, Batch Accuracy 0.95379638671875\n",
      "Epoch 1, Batch 100, Batch Loss: 1.5749, Batch Accuracy 0.95245361328125\n",
      "Epoch 1, Batch 110, Batch Loss: 2.8945, Batch Accuracy 0.951416015625\n",
      "Epoch 1, Batch 120, Batch Loss: 4.3831, Batch Accuracy 0.95025634765625\n",
      "Epoch 1, Batch 130, Batch Loss: 5.8322, Batch Accuracy 0.9532470703125\n",
      "Epoch 1, Batch 140, Batch Loss: 7.0800, Batch Accuracy 0.955322265625\n",
      "Epoch 1, Batch 150, Batch Loss: 7.9725, Batch Accuracy 0.953857421875\n",
      "Epoch 1, Batch 160, Batch Loss: 8.3537, Batch Accuracy 0.9517822265625\n",
      "Epoch 1, Batch 170, Batch Loss: 8.1048, Batch Accuracy 0.955322265625\n",
      "Epoch 1, Batch 180, Batch Loss: 7.3304, Batch Accuracy 0.95037841796875\n",
      "Epoch 1, Batch 190, Batch Loss: 6.0473, Batch Accuracy 0.951904296875\n",
      "Epoch 1, Batch 200, Batch Loss: 4.5037, Batch Accuracy 0.9525146484375\n",
      "Epoch 1, Batch 210, Batch Loss: 2.9389, Batch Accuracy 0.9525146484375\n",
      "Epoch 1, Batch 220, Batch Loss: 1.5707, Batch Accuracy 0.95489501953125\n",
      "Epoch 1, Batch 230, Batch Loss: 0.6050, Batch Accuracy 0.9498291015625\n",
      "Epoch 1, Batch 240, Batch Loss: 0.1043, Batch Accuracy 0.9500732421875\n",
      "Epoch 1, Batch 250, Batch Loss: 0.1186, Batch Accuracy 0.950927734375\n",
      "Epoch 1, Batch 260, Batch Loss: 0.6256, Batch Accuracy 0.0455322265625\n",
      "Epoch 1, Batch 270, Batch Loss: 1.5530, Batch Accuracy 0.04638671875\n"
     ]
    }
   ],
   "source": [
    "num_epochs = 10\n",
    "h0, c0 = None, None\n",
    "\n",
    "for epoch in range(num_epochs):\n",
    "    model.train()\n",
    "    optimizer.zero_grad()\n",
    "\n",
    "    for i, batch in enumerate(dataloader):\n",
    "        x_batch, y_batch = batch\n",
    "        outputs, h0, c0 = model(x_batch, h0, c0)\n",
    "\n",
    "        accuracy = ((outputs > 0.5) == y_batch).sum() / x_batch.shape[0]\n",
    "        loss = criterion(outputs, y_batch)\n",
    "        loss.backward()\n",
    "        optimizer.step()\n",
    "    \n",
    "        h0 = h0.detach()\n",
    "        c0 = c0.detach()\n",
    "        if i % 10 == 0:\n",
    "            print(f\"Epoch {epoch}, Batch {i}, Batch Loss: {loss.item():.4f}, Batch Accuracy {accuracy}\")\n",
    "    \n",
    "    #print(f'Epoch [{epoch+1}/{num_epochs}], Loss: {loss.item():.4f}')"
   ]
  },
  {
   "cell_type": "code",
   "execution_count": null,
   "id": "58f26d2a-25b5-4dc0-8753-fd1ad495e53a",
   "metadata": {},
   "outputs": [],
   "source": []
  }
 ],
 "metadata": {
  "kernelspec": {
   "display_name": "Python 3 (ipykernel)",
   "language": "python",
   "name": "python3"
  },
  "language_info": {
   "codemirror_mode": {
    "name": "ipython",
    "version": 3
   },
   "file_extension": ".py",
   "mimetype": "text/x-python",
   "name": "python",
   "nbconvert_exporter": "python",
   "pygments_lexer": "ipython3",
   "version": "3.13.3"
  }
 },
 "nbformat": 4,
 "nbformat_minor": 5
}
