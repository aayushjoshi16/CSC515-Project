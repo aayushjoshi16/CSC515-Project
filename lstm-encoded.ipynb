{
 "cells": [
  {
   "cell_type": "markdown",
   "id": "8435e077",
   "metadata": {},
   "source": [
    "# LSTM Model for Cache Hit Prediction\n",
    "\n",
    "This notebook implements a Long Short-Term Memory (LSTM) neural network to predict cache hits based on memory access patterns. The model analyzes sequences of memory addresses to learn patterns that indicate whether a future memory access will result in a cache hit or miss."
   ]
  },
  {
   "cell_type": "code",
   "execution_count": 1,
   "id": "3bade637-1eb2-44c5-8360-0a9def7b3d38",
   "metadata": {},
   "outputs": [],
   "source": [
    "# PyTorch libraries for deep learning\n",
    "import torch\n",
    "import torch.nn as nn\n",
    "import torch.nn.functional as F\n",
    "\n",
    "# NumPy for numerical operations\n",
    "import numpy as np\n",
    "\n",
    "# Matplotlib for visualization\n",
    "import matplotlib.pyplot as plt\n",
    "\n",
    "# PyTorch data utilities\n",
    "from torch.utils.data import DataLoader, TensorDataset, Dataset\n",
    "\n",
    "# Advanced dictionary for counting and aggregation\n",
    "from collections import defaultdict\n",
    "\n",
    "from tqdm.auto import tqdm\n",
    "\n",
    "import matplot2tikz\n",
    "\n",
    "from torchmetrics import Accuracy, AveragePrecision, Recall, ConfusionMatrix"
   ]
  },
  {
   "cell_type": "markdown",
   "id": "6358f0e2",
   "metadata": {},
   "source": [
    "## Imports\n",
    "\n",
    "Importing the necessary libraries:\n",
    "- `torch` and `torch.nn`: PyTorch deep learning framework\n",
    "- `numpy`: For numerical operations\n",
    "- `matplotlib.pyplot`: For plotting and visualization\n",
    "- `DataLoader` and `TensorDataset`: For batching and dataset handling\n",
    "- `defaultdict`: For advanced dictionary operations"
   ]
  },
  {
   "cell_type": "code",
   "execution_count": 2,
   "id": "567bf7a1-662a-4961-902f-fb771c068b3d",
   "metadata": {},
   "outputs": [],
   "source": [
    "# Open the trace file containing memory access data\n",
    "with open(\"test_red.out\") as f:\n",
    "    addrs = f.readlines()\n",
    "\n",
    "# Split each line into hit/miss indicator and memory address\n",
    "# The format is: 'hit_count memory_address'\n",
    "hits, addrs = zip(*(l.rstrip().split(' ') for l in addrs))\n",
    "\n",
    "# Convert hit counts to integers\n",
    "hits = [int(hit) for hit in hits]\n",
    "\n",
    "# Convert memory addresses from hex to integers\n",
    "addrs = [int(addr, 16) for addr in addrs]"
   ]
  },
  {
   "cell_type": "markdown",
   "id": "cb8ab669",
   "metadata": {},
   "source": [
    "## Data Loading\n",
    "\n",
    "Loading the cache access data from a file. Each line contains:\n",
    "- A hit/miss indicator (1 for hit, 0 for miss)\n",
    "- A memory address in hexadecimal format"
   ]
  },
  {
   "cell_type": "code",
   "execution_count": 3,
   "id": "8f3f80de-dd12-48f9-9289-d5ee26aefc36",
   "metadata": {
    "scrolled": true
   },
   "outputs": [
    {
     "data": {
      "text/plain": [
       "([0, 0, 0, 0, 0, 0, 0, 0, 0, 0],\n",
       " [536870744,\n",
       "  536870752,\n",
       "  805385384,\n",
       "  805385392,\n",
       "  805385376,\n",
       "  805385400,\n",
       "  536870728,\n",
       "  536870720,\n",
       "  536870712,\n",
       "  536870704])"
      ]
     },
     "execution_count": 3,
     "metadata": {},
     "output_type": "execute_result"
    }
   ],
   "source": [
    "hits[:10], addrs[:10]"
   ]
  },
  {
   "cell_type": "code",
   "execution_count": 4,
   "id": "b0c1d155-ec4d-48a2-9399-62510e530973",
   "metadata": {},
   "outputs": [
    {
     "data": {
      "text/plain": [
       "((tensor([[0., 0., 0.,  ..., 0., 0., 0.],\n",
       "          [0., 0., 0.,  ..., 0., 0., 0.],\n",
       "          [0., 0., 0.,  ..., 0., 0., 0.],\n",
       "          ...,\n",
       "          [0., 0., 0.,  ..., 0., 0., 0.],\n",
       "          [0., 0., 0.,  ..., 0., 0., 0.],\n",
       "          [0., 0., 0.,  ..., 0., 0., 0.]]),\n",
       "  tensor([0.])),\n",
       " (tensor([[0., 0., 0.,  ..., 0., 0., 0.],\n",
       "          [0., 0., 0.,  ..., 0., 0., 0.],\n",
       "          [0., 0., 0.,  ..., 0., 0., 0.],\n",
       "          ...,\n",
       "          [0., 0., 0.,  ..., 0., 0., 0.],\n",
       "          [0., 0., 0.,  ..., 0., 0., 0.],\n",
       "          [0., 0., 0.,  ..., 0., 0., 0.]]),\n",
       "  tensor([0.])))"
      ]
     },
     "execution_count": 4,
     "metadata": {},
     "output_type": "execute_result"
    }
   ],
   "source": [
    "class AddrDataset(Dataset):\n",
    "    def __init__(self, addresses, hits, seq_length):\n",
    "        self.addresses = np.asarray(addresses)\n",
    "        unique_addrs = np.unique(self.addresses)\n",
    "        self.num_classes = len(unique_addrs)\n",
    "        self.addr_to_index = {addr: i for i, addr in enumerate(unique_addrs)}\n",
    "        self.hits = torch.tensor(np.asarray(hits) > 0).float()\n",
    "        self.seq_length = seq_length\n",
    "\n",
    "    def __len__(self):\n",
    "        return len(self.addresses) - self.seq_length - 1 - 1\n",
    "\n",
    "    def __getitem__(self, idx):\n",
    "        if idx < 0:\n",
    "            idx = len(self) - idx\n",
    "        addrs = self.addresses[idx:idx + self.seq_length]\n",
    "        one_hot_x = torch.stack([F.one_hot(torch.tensor(self.addr_to_index[addr]), num_classes=self.num_classes).float() for addr in addrs])\n",
    "        # index_x = torch.stack([torch.tensor(self.addr_to_index[addr]).float() for addr in addrs])\n",
    "        label = self.hits[idx + self.seq_length]\n",
    "        return one_hot_x, label.unsqueeze(0)\n",
    "\n",
    "    def __repr__(self) -> str:\n",
    "        return f\"AddrDataset({self.num_classes=})\"\n",
    "\n",
    "dataset = AddrDataset(addrs, hits, 15)\n",
    "dataset\n",
    "(dataset[0], dataset[-1])"
   ]
  },
  {
   "cell_type": "code",
   "execution_count": 5,
   "id": "44eefb4d-da8e-4aa4-a64f-a6c8397d16dd",
   "metadata": {},
   "outputs": [
    {
     "data": {
      "text/plain": [
       "device(type='cuda')"
      ]
     },
     "execution_count": 5,
     "metadata": {},
     "output_type": "execute_result"
    }
   ],
   "source": [
    "# Check if CUDA-compatible GPU is available, otherwise use CPU\n",
    "device = torch.device(\"cuda\" if torch.cuda.is_available() else \"cpu\")\n",
    "device"
   ]
  },
  {
   "cell_type": "markdown",
   "id": "f6452a8a",
   "metadata": {},
   "source": [
    "## Device Configuration\n",
    "\n",
    "Setting up the computation device - will use GPU (CUDA) if available, otherwise CPU."
   ]
  },
  {
   "cell_type": "markdown",
   "id": "7dd008b5",
   "metadata": {},
   "source": [
    "## LSTM Model Definition\n",
    "\n",
    "Defining the Long Short-Term Memory (LSTM) neural network architecture:\n",
    "\n",
    "- **Input**: Sequences of normalized memory addresses\n",
    "- **LSTM Layer**: Processes sequences and captures temporal patterns\n",
    "- **Fully Connected Layer**: Maps LSTM output to binary prediction\n",
    "\n",
    "The model maintains and updates hidden state (h) and cell state (c) between batches for continuous learning on sequential data."
   ]
  },
  {
   "cell_type": "code",
   "execution_count": 6,
   "id": "6fab9eb9-fa9c-42a0-a7a8-227740e26758",
   "metadata": {},
   "outputs": [],
   "source": [
    "import torch\n",
    "import torch.nn as nn\n",
    "\n",
    "class LSTMModel(nn.Module):\n",
    "    def __init__(self, input_dim, embedding_dim, hidden_dim, layer_dim, output_dim):\n",
    "        '''\n",
    "        Initialize the LSTM model.\n",
    "        \n",
    "        Parameters:\n",
    "            input_dim (int): Size of input feature dimension (number of unique addresses for one-hot encoding)\n",
    "            hidden_dim (int): Size of the hidden state\n",
    "            layer_dim (int): Number of LSTM layers\n",
    "            output_dim (int): Size of output (1 for binary prediction)\n",
    "        '''\n",
    "        super(LSTMModel, self).__init__()\n",
    "        self.hidden_dim = hidden_dim\n",
    "        self.layer_dim = layer_dim\n",
    "\n",
    "        self.embedding = nn.Linear(input_dim, embedding_dim)\n",
    "\n",
    "        #self.relu = nn.ReLU()\n",
    "        \n",
    "        # LSTM layer with batch_first=True means input shape is [batch, seq, feature]\n",
    "        self.lstm = nn.LSTM(embedding_dim, hidden_dim, layer_dim, batch_first=True)\n",
    "        \n",
    "        # Fully connected layer to produce output prediction\n",
    "        self.fc = nn.Linear(hidden_dim, output_dim)\n",
    "\n",
    "        self.sigmoid = nn.Sigmoid()\n",
    "\n",
    "    def forward(self, x, h0=None, c0=None):\n",
    "        '''\n",
    "        Forward pass through the network.\n",
    "        \n",
    "        Parameters:\n",
    "            x (tensor): Input tensor of shape [batch_size, seq_len, input_dim]\n",
    "            h0 (tensor, optional): Initial hidden state\n",
    "            c0 (tensor, optional): Initial cell state\n",
    "            \n",
    "        Returns:\n",
    "            out (tensor): Output predictions\n",
    "            hn (tensor): Final hidden state\n",
    "            cn (tensor): Final cell state\n",
    "        '''\n",
    "        # Initialize hidden states if not provided\n",
    "        if h0 is None or c0 is None:\n",
    "            # Create zero tensors for hidden and cell states\n",
    "            # Shape: [num_layers, batch_size, hidden_dim]\n",
    "            h0 = torch.zeros(self.layer_dim, x.size(0), self.hidden_dim).to(x.device)\n",
    "            c0 = torch.zeros(self.layer_dim, x.size(0), self.hidden_dim).to(x.device)\n",
    "\n",
    "        out = self.embedding(x)\n",
    "        \n",
    "        # Forward propagate the LSTM\n",
    "        # out shape: [batch_size, seq_len, hidden_dim]\n",
    "        # hn and cn shape: [num_layers, batch_size, hidden_dim]\n",
    "        out, (hn, cn) = self.lstm(out, (h0, c0))\n",
    "        \n",
    "        # Decode the hidden state of the last time step\n",
    "        # Only take the output from the final timestep\n",
    "        out = self.fc(out[:, -1, :])\n",
    "        \n",
    "        return self.sigmoid(out), hn, cn"
   ]
  },
  {
   "cell_type": "code",
   "execution_count": 7,
   "id": "d0de4177-6ead-4f01-ad31-33c732103a77",
   "metadata": {},
   "outputs": [],
   "source": [
    "#all_X = torch.cat([x_batch for x_batch, y_batch in train_dl], dim=0)\n",
    "#X_mean = all_X.mean()\n",
    "#X_std = all_X.std()"
   ]
  },
  {
   "cell_type": "code",
   "execution_count": 37,
   "id": "5fb244df-c612-465c-a92e-f7bcadec0c0d",
   "metadata": {},
   "outputs": [],
   "source": [
    "# Set batch size for training\n",
    "# Larger batch size can speed up training but requires more memory\n",
    "batch_size = 2048\n",
    "\n",
    "# Create DataLoader for batch processing\n",
    "# - shuffle=True: Randomizes data order in each epoch\n",
    "# - drop_last=True: Drops the last incomplete batch\n",
    "train_ds, test_ds = torch.utils.data.random_split(dataset, [0.8, 0.2])\n",
    "train_dl = DataLoader(train_ds, batch_size=batch_size, shuffle=True, drop_last=True)\n",
    "test_dl = DataLoader(test_ds, batch_size=batch_size, shuffle=True, drop_last=True)"
   ]
  },
  {
   "cell_type": "markdown",
   "id": "3f109714",
   "metadata": {},
   "source": [
    "## Model Initialization\n",
    "\n",
    "Initializing the LSTM model with the following configuration:\n",
    "- Input dimension: num_features (number of unique memory addresses for one-hot encoding)\n",
    "- Hidden dimension: 100 (size of LSTM cell state)\n",
    "- Layer dimension: 1 (single LSTM layer)\n",
    "- Output dimension: 1 (binary prediction)\n",
    "\n",
    "The one-hot encoding increases the input dimension but allows the model to distinguish between individual memory addresses more effectively.\n",
    "\n",
    "Also configuring the loss function (Mean Squared Error) and optimizer (Adam)."
   ]
  },
  {
   "cell_type": "code",
   "execution_count": 38,
   "id": "e6d37d78-5233-4392-905d-74433c0b9a7b",
   "metadata": {},
   "outputs": [],
   "source": [
    "# Get the number of features (dimension of one-hot encoded vectors)\n",
    "num_features = dataset.num_classes  # The length of each one-hot encoded vector\n",
    "\n",
    "# Initialize the LSTM model\n",
    "# - input_dim=num_features: Each timestep has a one-hot encoded vector as feature\n",
    "# - hidden_dim=100: Size of the hidden state vector\n",
    "# - layer_dim=1: Single LSTM layer\n",
    "# - output_dim=1: Binary output (hit probability)\n",
    "model = LSTMModel(input_dim=num_features, embedding_dim=128, hidden_dim=100, layer_dim=1, output_dim=1).to(device)\n",
    "\n",
    "# Define loss function - Mean Squared Error\n",
    "criterion = nn.MSELoss()\n",
    "\n",
    "# Define optimizer - Adam with learning rate of 0.01\n",
    "optimizer = torch.optim.Adam(model.parameters(), lr=0.01)"
   ]
  },
  {
   "cell_type": "markdown",
   "id": "885ea1f3",
   "metadata": {},
   "source": [
    "## DataLoader Configuration\n",
    "\n",
    "Preparing the data for batch processing using PyTorch's DataLoader:\n",
    "- Creates a TensorDataset from input sequences and target values\n",
    "- Configures the batch size, shuffling, and other training parameters"
   ]
  },
  {
   "cell_type": "code",
   "execution_count": 39,
   "id": "4fc1d5c8-b56f-490c-9647-c32a0c1364aa",
   "metadata": {},
   "outputs": [
    {
     "name": "stdout",
     "output_type": "stream",
     "text": [
      "Epoch 0, Batch 0, Batch Loss: 0.2497, Batch Accuracy 0.51806640625\n",
      "Epoch 0, Batch 5, Batch Loss: 0.2521, Batch Accuracy 0.4931640625\n",
      "Epoch 0, Batch 10, Batch Loss: 0.2489, Batch Accuracy 0.51513671875\n",
      "Epoch 0, Batch 15, Batch Loss: 0.2237, Batch Accuracy 0.673828125\n",
      "Epoch 0, Batch 20, Batch Loss: 0.1857, Batch Accuracy 0.74462890625\n",
      "Epoch 0, Batch 25, Batch Loss: 0.1989, Batch Accuracy 0.6689453125\n",
      "Epoch 0, Batch 30, Batch Loss: 0.1334, Batch Accuracy 0.841796875\n",
      "Epoch 0, Batch 35, Batch Loss: 0.1088, Batch Accuracy 0.8876953125\n",
      "Epoch 1, Batch 0, Batch Loss: 0.0731, Batch Accuracy 0.92333984375\n",
      "Epoch 1, Batch 5, Batch Loss: 0.0495, Batch Accuracy 0.93359375\n",
      "Epoch 1, Batch 10, Batch Loss: 0.0418, Batch Accuracy 0.947265625\n",
      "Epoch 1, Batch 15, Batch Loss: 0.0365, Batch Accuracy 0.9501953125\n",
      "Epoch 1, Batch 20, Batch Loss: 0.0531, Batch Accuracy 0.91748046875\n",
      "Epoch 1, Batch 25, Batch Loss: 0.0274, Batch Accuracy 0.96728515625\n",
      "Epoch 1, Batch 30, Batch Loss: 0.0302, Batch Accuracy 0.96142578125\n",
      "Epoch 1, Batch 35, Batch Loss: 0.0371, Batch Accuracy 0.95166015625\n",
      "Epoch 2, Batch 0, Batch Loss: 0.0235, Batch Accuracy 0.97119140625\n",
      "Epoch 2, Batch 5, Batch Loss: 0.0207, Batch Accuracy 0.9736328125\n",
      "Epoch 2, Batch 10, Batch Loss: 0.0184, Batch Accuracy 0.9775390625\n",
      "Epoch 2, Batch 15, Batch Loss: 0.0178, Batch Accuracy 0.97509765625\n",
      "Epoch 2, Batch 20, Batch Loss: 0.0073, Batch Accuracy 0.98828125\n",
      "Epoch 2, Batch 25, Batch Loss: 0.0141, Batch Accuracy 0.98388671875\n",
      "Epoch 2, Batch 30, Batch Loss: 0.0145, Batch Accuracy 0.97998046875\n",
      "Epoch 2, Batch 35, Batch Loss: 0.0199, Batch Accuracy 0.97265625\n",
      "Epoch 3, Batch 0, Batch Loss: 0.0224, Batch Accuracy 0.9736328125\n",
      "Epoch 3, Batch 5, Batch Loss: 0.0139, Batch Accuracy 0.98193359375\n",
      "Epoch 3, Batch 10, Batch Loss: 0.0178, Batch Accuracy 0.97412109375\n",
      "Epoch 3, Batch 15, Batch Loss: 0.0177, Batch Accuracy 0.9775390625\n",
      "Epoch 3, Batch 20, Batch Loss: 0.0157, Batch Accuracy 0.98095703125\n",
      "Epoch 3, Batch 25, Batch Loss: 0.0189, Batch Accuracy 0.97705078125\n",
      "Epoch 3, Batch 30, Batch Loss: 0.0161, Batch Accuracy 0.9794921875\n",
      "Epoch 3, Batch 35, Batch Loss: 0.0148, Batch Accuracy 0.97900390625\n",
      "Epoch 4, Batch 0, Batch Loss: 0.0248, Batch Accuracy 0.9638671875\n",
      "Epoch 4, Batch 5, Batch Loss: 0.0238, Batch Accuracy 0.96923828125\n",
      "Epoch 4, Batch 10, Batch Loss: 0.0162, Batch Accuracy 0.9794921875\n",
      "Epoch 4, Batch 15, Batch Loss: 0.0118, Batch Accuracy 0.98486328125\n",
      "Epoch 4, Batch 20, Batch Loss: 0.0156, Batch Accuracy 0.98193359375\n",
      "Epoch 4, Batch 25, Batch Loss: 0.0298, Batch Accuracy 0.9619140625\n",
      "Epoch 4, Batch 30, Batch Loss: 0.0338, Batch Accuracy 0.96044921875\n",
      "Epoch 4, Batch 35, Batch Loss: 0.0292, Batch Accuracy 0.966796875\n",
      "Epoch 5, Batch 0, Batch Loss: 0.0187, Batch Accuracy 0.97802734375\n",
      "Epoch 5, Batch 5, Batch Loss: 0.0147, Batch Accuracy 0.98193359375\n",
      "Epoch 5, Batch 10, Batch Loss: 0.0169, Batch Accuracy 0.9794921875\n",
      "Epoch 5, Batch 15, Batch Loss: 0.0139, Batch Accuracy 0.98388671875\n",
      "Epoch 5, Batch 20, Batch Loss: 0.0151, Batch Accuracy 0.98291015625\n",
      "Epoch 5, Batch 25, Batch Loss: 0.0156, Batch Accuracy 0.982421875\n",
      "Epoch 5, Batch 30, Batch Loss: 0.0134, Batch Accuracy 0.98388671875\n",
      "Epoch 5, Batch 35, Batch Loss: 0.0183, Batch Accuracy 0.97802734375\n"
     ]
    }
   ],
   "source": [
    "# Number of complete passes through the dataset\n",
    "num_epochs = 6\n",
    "\n",
    "inference_time = 0\n",
    "total_infrences = 0\n",
    "\n",
    "# Initialize hidden and cell states as None (will be created in first forward pass)\n",
    "h0, c0 = None, None\n",
    "\n",
    "history = defaultdict(list)\n",
    "\n",
    "# Training loop\n",
    "for epoch in range(num_epochs):\n",
    "    # Set model to training mode\n",
    "    model.train()\n",
    "    # Zero all gradients\n",
    "    optimizer.zero_grad()\n",
    "\n",
    "    # Process each batch in the dataset\n",
    "    for i, batch in enumerate(train_dl):\n",
    "        # Unpack inputs and targets from batch\n",
    "        x_batch, y_batch = batch\n",
    "        x_batch, y_batch = (x_batch.to(device), y_batch.to(device))\n",
    "\n",
    "        start_time = time.time_ns()\n",
    "        # Forward pass: compute predictions and get new hidden states\n",
    "        outputs, h0, c0 = model(x_batch, h0, c0)\n",
    "        \n",
    "        # Calculate loss\n",
    "        loss = criterion(outputs, y_batch)\n",
    "        \n",
    "        # Backward pass: compute gradients\n",
    "        loss.backward()\n",
    "        \n",
    "        # Update model parameters based on gradients\n",
    "        optimizer.step()\n",
    "        end_time = time.time_ns()\n",
    "        \n",
    "        inference_time += (end_time - start_time)\n",
    "        total_infrences += x_batch.shape[0]\n",
    "\n",
    "        # Calculate batch accuracy (threshold at 0.5 for binary classification)\n",
    "        accuracy = ((outputs > 0.5) == y_batch).sum() / x_batch.shape[0]\n",
    "    \n",
    "        # Detach hidden states from the computation graph to prevent \n",
    "        # backpropagation through the entire history (avoids exploding gradients)\n",
    "        h0 = h0.detach()\n",
    "        c0 = c0.detach()\n",
    "\n",
    "        history[\"loss\"].append(loss.item())\n",
    "        history[\"accuracy\"].append(accuracy.item())\n",
    "        \n",
    "        # Print progress every 10 batches\n",
    "        if i % 5 == 0:\n",
    "            print(f\"Epoch {epoch}, Batch {i}, Batch Loss: {loss.item():.4f}, Batch Accuracy {accuracy}\")\n",
    "    \n",
    "    # Alternative epoch-level reporting (commented out)\n",
    "    #print(f'Epoch [{epoch+1}/{num_epochs}], Loss: {loss.item():.4f}')"
   ]
  },
  {
   "cell_type": "code",
   "execution_count": 40,
   "id": "88bf00a8-d1d5-4135-a464-5c31ae20cff1",
   "metadata": {},
   "outputs": [
    {
     "data": {
      "text/plain": [
       "1121.9563489082532"
      ]
     },
     "execution_count": 40,
     "metadata": {},
     "output_type": "execute_result"
    }
   ],
   "source": [
    "inference_time / total_infrences"
   ]
  },
  {
   "cell_type": "markdown",
   "id": "1231d874",
   "metadata": {},
   "source": [
    "## Model Training\n",
    "\n",
    "Training the LSTM model with the following process:\n",
    "1. Iterate through epochs\n",
    "2. For each batch in the dataloader:\n",
    "   - Forward pass through the model\n",
    "   - Calculate accuracy and loss\n",
    "   - Backward pass to compute gradients\n",
    "   - Update model parameters\n",
    "\n",
    "Note: The hidden and cell states are preserved between batches but detached from the computation graph to prevent exploding gradients."
   ]
  },
  {
   "cell_type": "code",
   "execution_count": 34,
   "id": "58f26d2a-25b5-4dc0-8753-fd1ad495e53a",
   "metadata": {},
   "outputs": [],
   "source": [
    "# Example code for model evaluation (uncomment to use)\n",
    "import time\n",
    "\n",
    "inference_time = 0\n",
    "total_infrences = 0\n",
    "\n",
    "def evaluate_model(model, test_dl):\n",
    "    global inference_time\n",
    "    global total_infrences\n",
    "    '''\n",
    "    Evaluate the model on test data\n",
    "    \n",
    "    Parameters:\n",
    "        model: Trained LSTM model\n",
    "        X_test: Test input sequences with one-hot encoded addresses\n",
    "        y_test: Test labels\n",
    "    \n",
    "    Returns:\n",
    "        accuracy: Model accuracy on test data\n",
    "    '''\n",
    "    model.eval()  # Set model to evaluation mode\n",
    "    with torch.no_grad():  # Disable gradient computation\n",
    "        h0, c0 = None, None\n",
    "        batch_outputs = []\n",
    "        true_outputs = []\n",
    "        for i, batch in enumerate(test_dl):\n",
    "            x_batch, y_batch = batch\n",
    "            x_batch, y_batch = (x_batch.to(device), y_batch.to(device))\n",
    "\n",
    "            start_time = time.time_ns()\n",
    "            outputs, h0, c0 = model(x_batch, h0, c0)\n",
    "            end_time = time.time_ns()\n",
    "            inference_time += (end_time - start_time)\n",
    "            total_infrences += x_batch.shape[0]\n",
    "\n",
    "            batch_outputs.append(outputs)\n",
    "            true_outputs.append(y_batch)\n",
    "            #accuracy = ((outputs > 0.5) == y_batch).sum() / x_batch.shape[0]\n",
    "            #batch_accuracies.append(accuracy)\n",
    "\n",
    "    return torch.cat(batch_outputs, dim=0), torch.cat(true_outputs, dim=0)\n",
    "\n",
    "outputs, true = evaluate_model(model, test_dl)"
   ]
  },
  {
   "cell_type": "code",
   "execution_count": 35,
   "id": "edd47354-ceb6-4901-ac94-b1c620ad3d02",
   "metadata": {},
   "outputs": [
    {
     "data": {
      "text/plain": [
       "334.03455946180554"
      ]
     },
     "execution_count": 35,
     "metadata": {},
     "output_type": "execute_result"
    }
   ],
   "source": [
    "inference_time / total_infrences"
   ]
  },
  {
   "cell_type": "code",
   "execution_count": 12,
   "id": "3ac8f970-a6b4-4222-9e73-e9a577b023c1",
   "metadata": {},
   "outputs": [
    {
     "data": {
      "text/plain": [
       "(torch.Size([18432, 1]), torch.Size([18432, 1]))"
      ]
     },
     "execution_count": 12,
     "metadata": {},
     "output_type": "execute_result"
    }
   ],
   "source": [
    "outputs.shape, true.shape"
   ]
  },
  {
   "cell_type": "code",
   "execution_count": 13,
   "id": "49981d32-04dd-40cf-9736-abcc44077dfb",
   "metadata": {},
   "outputs": [
    {
     "data": {
      "text/plain": [
       "tensor([[1],\n",
       "        [1],\n",
       "        [0],\n",
       "        ...,\n",
       "        [0],\n",
       "        [1],\n",
       "        [1]], device='cuda:0', dtype=torch.int32)"
      ]
     },
     "execution_count": 13,
     "metadata": {},
     "output_type": "execute_result"
    }
   ],
   "source": [
    "true.int()"
   ]
  },
  {
   "cell_type": "code",
   "execution_count": 14,
   "id": "7c369037-ca77-4a2e-ae41-21e7eeba7a82",
   "metadata": {},
   "outputs": [
    {
     "name": "stdout",
     "output_type": "stream",
     "text": [
      "98.19%\n"
     ]
    }
   ],
   "source": [
    "acc = Accuracy(task=\"binary\").to(device)(outputs, true).item()\n",
    "print(f\"{acc:.2%}\")"
   ]
  },
  {
   "cell_type": "code",
   "execution_count": 15,
   "id": "4414b13a-5cce-49a5-b3c4-08b1d8bac6d8",
   "metadata": {},
   "outputs": [
    {
     "name": "stdout",
     "output_type": "stream",
     "text": [
      "0.993\n"
     ]
    }
   ],
   "source": [
    "prec = AveragePrecision(task=\"binary\").to(device)(outputs, true.int()).item()\n",
    "print(f\"{prec:.4}\")"
   ]
  },
  {
   "cell_type": "code",
   "execution_count": 24,
   "id": "43cedf12-e696-434c-bfa8-8a38a3a1b788",
   "metadata": {},
   "outputs": [
    {
     "name": "stdout",
     "output_type": "stream",
     "text": [
      "0.9848\n"
     ]
    }
   ],
   "source": [
    "rec = Recall(task=\"binary\").to(device)(outputs, true.int()).item()\n",
    "print(f\"{rec:.4}\")"
   ]
  },
  {
   "cell_type": "code",
   "execution_count": 17,
   "id": "8b42edd7-8d72-4b4e-9070-7b6749af5ba2",
   "metadata": {},
   "outputs": [
    {
     "data": {
      "text/plain": [
       "tensor([[9078,  195],\n",
       "        [ 139, 9020]], device='cuda:0')"
      ]
     },
     "execution_count": 17,
     "metadata": {},
     "output_type": "execute_result"
    }
   ],
   "source": [
    "confusion = ConfusionMatrix(task=\"binary\").to(device)(outputs, true)\n",
    "confusion"
   ]
  },
  {
   "cell_type": "code",
   "execution_count": 18,
   "id": "279cbdde-5a76-49ff-a083-fdbb8bbe1be6",
   "metadata": {},
   "outputs": [],
   "source": [
    "import seaborn as sns"
   ]
  },
  {
   "cell_type": "code",
   "execution_count": 19,
   "id": "50a20507-cb2f-48e1-9567-116f228ebf57",
   "metadata": {},
   "outputs": [
    {
     "data": {
      "image/png": "[encoded data removed]",
      "text/plain": [
       "<Figure size 640x480 with 2 Axes>"
      ]
     },
     "metadata": {},
     "output_type": "display_data"
    }
   ],
   "source": [
    "sns.heatmap(confusion.cpu(), xticklabels=[\"Miss\", \"Hit\"], yticklabels=[\"Miss\", \"Hit\"], annot=True, fmt=\".10g\", annot_kws={\"fontsize\": \"xx-large\"})\n",
    "plt.title(\"One Hot Confusion Matrix\")\n",
    "plt.ylabel(\"Actual Result\")\n",
    "plt.xlabel(\"Predicted Result\")\n",
    "matplot2tikz.save(\"one-hot-confusion.tex\")"
   ]
  },
  {
   "cell_type": "code",
   "execution_count": 20,
   "id": "848c353c-7280-447b-a05c-58852e8f523e",
   "metadata": {},
   "outputs": [
    {
     "data": {
      "text/plain": [
       "(tensor([[9.9998e-01],\n",
       "         [9.9999e-01],\n",
       "         [2.8389e-05],\n",
       "         ...,\n",
       "         [5.0243e-06],\n",
       "         [1.0000e+00],\n",
       "         [7.8358e-01]], device='cuda:0'),\n",
       " tensor([[1.],\n",
       "         [1.],\n",
       "         [0.],\n",
       "         ...,\n",
       "         [0.],\n",
       "         [1.],\n",
       "         [1.]], device='cuda:0'))"
      ]
     },
     "execution_count": 20,
     "metadata": {},
     "output_type": "execute_result"
    }
   ],
   "source": [
    "outputs, true"
   ]
  },
  {
   "cell_type": "code",
   "execution_count": 21,
   "id": "873e9990-0b84-441e-ad90-cec0c93385fd",
   "metadata": {},
   "outputs": [
    {
     "data": {
      "image/png": "[encoded data removed]",
      "text/plain": [
       "<Figure size 640x480 with 1 Axes>"
      ]
     },
     "metadata": {},
     "output_type": "display_data"
    },
    {
     "data": {
      "image/png": "[encoded data removed]",
      "text/plain": [
       "<Figure size 640x480 with 1 Axes>"
      ]
     },
     "metadata": {},
     "output_type": "display_data"
    }
   ],
   "source": [
    "# Plot training history\n",
    "def plot_training_history(history):\n",
    "    '''\n",
    "    Plot the training loss and accuracy over epochs\n",
    "    \n",
    "    Parameters:\n",
    "        history: Dictionary containing 'loss' and 'accuracy' lists\n",
    "    '''\n",
    "    \n",
    "    # Plot loss\n",
    "    plt.plot(history['loss'])\n",
    "    plt.title('One Hot Training Loss')\n",
    "    plt.xlabel('Batch')\n",
    "    plt.ylabel('Loss')\n",
    "    matplot2tikz.save(\"one-hot-training-loss.tex\")\n",
    "    plt.show()\n",
    "    \n",
    "    # Plot accuracy\n",
    "    plt.plot(history['accuracy'])\n",
    "    plt.title('One Hot Training Accuracy')\n",
    "    plt.xlabel('Batch')\n",
    "    plt.ylabel('Accuracy')\n",
    "    matplot2tikz.save(\"one-hot-training-accuracy.tex\")\n",
    "    plt.show()\n",
    "\n",
    "plot_training_history(history)"
   ]
  },
  {
   "cell_type": "code",
   "execution_count": 22,
   "id": "ebf162f5-d814-4d41-87a5-6b124c99c0eb",
   "metadata": {},
   "outputs": [],
   "source": [
    "# # Function to visualize the one-hot encoded data\n",
    "# def visualize_onehot_data(X, num_samples=5):\n",
    "#     '''\n",
    "#     Visualizes a few examples of one-hot encoded memory addresses\n",
    "#     \n",
    "#     Parameters:\n",
    "#         X: One-hot encoded data\n",
    "#         num_samples: Number of samples to visualize\n",
    "#     '''\n",
    "#     plt.figure(figsize=(10, 6))\n",
    "#     for i in range(min(num_samples, len(X))):\n",
    "#         plt.subplot(num_samples, 1, i+1)\n",
    "#         plt.imshow(X[i].reshape(1, -1), aspect='auto', cmap='viridis')\n",
    "#         plt.title(f\"Sample {i+1}\")\n",
    "#         plt.ylabel(\"One-hot vector\")\n",
    "#     plt.tight_layout()\n",
    "#     plt.show()"
   ]
  },
  {
   "cell_type": "markdown",
   "id": "3d58d5b6",
   "metadata": {},
   "source": [
    "## Model Evaluation and Further Steps\n",
    "\n",
    "After training, the model can be used to predict cache hits for new memory address sequences. Possible next steps:\n",
    "\n",
    "1. **Model Evaluation**: Test the model on a separate validation set to assess generalization performance\n",
    "2. **Hyperparameter Tuning**: Experiment with different LSTM configurations (hidden size, number of layers)\n",
    "3. **Feature Engineering**: Consider additional features like program counter values\n",
    "4. **Visualization**: Plot the training loss and accuracy curves\n",
    "5. **Inference**: Use the trained model to predict cache behavior for new memory traces\n",
    "6. **Encoding Optimization**: If the number of unique addresses is very large, consider dimensionality reduction techniques or address clustering to reduce the one-hot vector size\n",
    "7. **Memory Efficiency**: For extremely large address spaces, explore memory-efficient alternatives to one-hot encoding, such as embedding layers that learn dense representations of addresses"
   ]
  },
  {
   "cell_type": "markdown",
   "id": "6e4b3d98",
   "metadata": {},
   "source": [
    "## Memory Considerations for One-Hot Encoding\n",
    "\n",
    "One-hot encoding provides clear separation between different memory addresses, which can improve model learning. However, it comes with memory trade-offs:\n",
    "\n",
    "**Advantages:**\n",
    "- Treats each address as a distinct entity\n",
    "- Avoids imposing an artificial numerical relationship between addresses\n",
    "- May capture patterns that normalized values would miss\n",
    "\n",
    "**Challenges:**\n",
    "- High dimensionality with large address spaces (potentially millions of unique addresses)\n",
    "- Sparse representation (mostly zeros) requiring more memory\n",
    "- May need dimensionality reduction for very large address spaces\n",
    "\n",
    "**Possible Solutions:**\n",
    "- Address bucketing: Group similar addresses into buckets\n",
    "- Page-level encoding: Encode at page granularity instead of exact addresses\n",
    "- Embedding layers: Learn dense representations of addresses\n",
    "- Feature hashing: Map addresses to a smaller feature space"
   ]
  },
  {
   "cell_type": "code",
   "execution_count": 23,
   "id": "668713a4",
   "metadata": {},
   "outputs": [],
   "source": [
    "# Example of more memory-efficient alternatives to full one-hot encoding\n",
    "# Uncomment and modify as needed\n",
    "\n",
    "# Option 1: Address bucketing - group addresses into a smaller number of buckets\n",
    "# def create_address_buckets(addresses, num_buckets=1000):\n",
    "#     min_addr = min(addresses)\n",
    "#     max_addr = max(addresses)\n",
    "#     bucket_size = (max_addr - min_addr) / num_buckets\n",
    "#     \n",
    "#     # Assign each address to a bucket\n",
    "#     buckets = []\n",
    "#     for addr in addresses:\n",
    "#         bucket = int((addr - min_addr) / bucket_size)\n",
    "#         buckets.append(min(bucket, num_buckets-1))  # Cap at max bucket\n",
    "#         \n",
    "#     # One-hot encode the buckets instead of raw addresses\n",
    "#     bucket_onehot = np.zeros((len(buckets), num_buckets))\n",
    "#     for i, bucket in enumerate(buckets):\n",
    "#         bucket_onehot[i, bucket] = 1\n",
    "#         \n",
    "#     return bucket_onehot\n",
    "\n",
    "# Option 2: Embedding layer approach - learn dense vector representations\n",
    "# class EmbeddingLSTMModel(nn.Module):\n",
    "#     def __init__(self, num_addresses, embedding_dim, hidden_dim, layer_dim, output_dim):\n",
    "#         super(EmbeddingLSTMModel, self).__init__()\n",
    "#         self.hidden_dim = hidden_dim\n",
    "#         self.layer_dim = layer_dim\n",
    "#         \n",
    "#         # Embedding layer converts address indices to dense vectors\n",
    "#         self.embedding = nn.Embedding(num_addresses, embedding_dim)\n",
    "#         \n",
    "#         # LSTM layer\n",
    "#         self.lstm = nn.LSTM(embedding_dim, hidden_dim, layer_dim, batch_first=True)\n",
    "#         \n",
    "#         # Fully connected layer\n",
    "#         self.fc = nn.Linear(hidden_dim, output_dim)\n",
    "#     \n",
    "#     def forward(self, x, h0=None, c0=None):\n",
    "#         # Convert address indices to embeddings\n",
    "#         # x shape: [batch_size, seq_len] -> [batch_size, seq_len, embedding_dim]\n",
    "#         embedded = self.embedding(x)\n",
    "#         \n",
    "#         # Initialize hidden states if not provided\n",
    "#         if h0 is None or c0 is None:\n",
    "#             h0 = torch.zeros(self.layer_dim, x.size(0), self.hidden_dim).to(x.device)\n",
    "#             c0 = torch.zeros(self.layer_dim, x.size(0), self.hidden_dim).to(x.device)\n",
    "#         \n",
    "#         # Forward propagate LSTM\n",
    "#         out, (hn, cn) = self.lstm(embedded, (h0, c0))\n",
    "#         \n",
    "#         # Decode the hidden state of the last time step\n",
    "#         out = self.fc(out[:, -1, :])\n",
    "#         \n",
    "#         return out, hn, cn"
   ]
  },
  {
   "cell_type": "code",
   "execution_count": null,
   "id": "c2e7b9f4-c2e2-4aa3-bdaa-2421eb76ff12",
   "metadata": {},
   "outputs": [],
   "source": []
  },
  {
   "cell_type": "code",
   "execution_count": null,
   "id": "a31b8cef-2e28-451d-941f-8f949db097a7",
   "metadata": {},
   "outputs": [],
   "source": []
  },
  {
   "cell_type": "code",
   "execution_count": null,
   "id": "d2c965c0-a53a-4719-bb17-a675d09f0220",
   "metadata": {},
   "outputs": [],
   "source": []
  }
 ],
 "metadata": {
  "kernelspec": {
   "display_name": ".venv",
   "language": "python",
   "name": ".venv"
  },
  "language_info": {
   "codemirror_mode": {
    "name": "ipython",
    "version": 3
   },
   "file_extension": ".py",
   "mimetype": "text/x-python",
   "name": "python",
   "nbconvert_exporter": "python",
   "pygments_lexer": "ipython3",
   "version": "3.13.3"
  }
 },
 "nbformat": 4,
 "nbformat_minor": 5
}
